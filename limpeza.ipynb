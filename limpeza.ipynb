{
 "cells": [
  {
   "cell_type": "markdown",
   "metadata": {},
   "source": [
    "# Limpeza e pré-processamento de dados com o NumPy\n",
    "\n",
    "Durante o nosso projeto, iremos utilizar exclusivamente o NumPy para realizar a limpeza e o pré-processamento dos dados. O nosso conjunto de dados representa milhares de empréstimos feitos por meio da plataforma Lending Club, que é uma plataforma que permite que indivíduos emprestem para outros indivíduos.\n",
    "\n",
    "## O que é o NumPy?\n",
    "\n",
    "Primeiramente, precisamos entender o que é o NumPy e por que o utilizaremos exclusivamente para a limpeza e o tratamento de nossos dados. O NumPy é uma das bibliotecas fundamentais para a computação científica em Python. Ele oferece suporte para arrays multidimensionais (ou seja, arrays com mais de uma dimensão) e funções matemáticas de alto desempenho para a manipulação desses arrays. O NumPy é amplamente utilizado em áreas como ciência de dados, aprendizado de máquina, processamento de sinais, matemática, física e muitos outros campos. Dado que ela é otimizada e possui funções e módulos preparados para computação científica, tende a ser mais rápida do que se utilizássemos apenas o Python puro.\n",
    "\n",
    "Visão dos dados antes do tratamento:\n",
    "(imagens/EstudoCaso1.png)"
   ]
  },
  {
   "cell_type": "code",
   "execution_count": 1,
   "metadata": {},
   "outputs": [],
   "source": [
    "#Primeiramente vamos importar o numpy\n",
    "import numpy as np"
   ]
  },
  {
   "cell_type": "markdown",
   "metadata": {},
   "source": [
    "## Carregando o Dataset\n",
    "\n",
    "Para importar os conjuntos de dados iremos utilizar a função genfromtxt do NumPy"
   ]
  },
  {
   "cell_type": "code",
   "execution_count": 3,
   "metadata": {},
   "outputs": [],
   "source": [
    "#importando os dados\n",
    "dados = np.genfromtxt(\"dados/dataset1.csv\",\n",
    "                    delimiter = ';',\n",
    "                    skip_header = 1,\n",
    "                    autostrip = True,\n",
    "                    encoding = 'cp1252'\n",
    ")"
   ]
  },
  {
   "cell_type": "code",
   "execution_count": 4,
   "metadata": {},
   "outputs": [
    {
     "data": {
      "text/plain": [
       "(10000, 14)"
      ]
     },
     "execution_count": 4,
     "metadata": {},
     "output_type": "execute_result"
    }
   ],
   "source": [
    "#vamos verificar o tamanho do shape dos nosso dados\n",
    "dados.shape"
   ]
  },
  {
   "cell_type": "code",
   "execution_count": 5,
   "metadata": {},
   "outputs": [
    {
     "data": {
      "text/plain": [
       "array([[4.8010226e+07,           nan, 3.5000000e+04, ...,           nan,\n",
       "                  nan, 9.4529600e+03],\n",
       "       [5.7693261e+07,           nan, 3.0000000e+04, ...,           nan,\n",
       "                  nan, 4.6797000e+03],\n",
       "       [5.9432726e+07,           nan, 1.5000000e+04, ...,           nan,\n",
       "                  nan, 1.9698300e+03],\n",
       "       ...,\n",
       "       [5.0415990e+07,           nan, 1.0000000e+04, ...,           nan,\n",
       "                  nan, 2.1856400e+03],\n",
       "       [4.6154151e+07,           nan,           nan, ...,           nan,\n",
       "                  nan, 3.1994000e+03],\n",
       "       [6.6055249e+07,           nan, 1.0000000e+04, ...,           nan,\n",
       "                  nan, 3.0190000e+02]])"
      ]
     },
     "execution_count": 5,
     "metadata": {},
     "output_type": "execute_result"
    }
   ],
   "source": [
    "#vizualizar as entradas\n",
    "dados.view()"
   ]
  },
  {
   "cell_type": "markdown",
   "metadata": {},
   "source": [
    "Podemos observar que ao verificar os dados temos diversos valores \"nan\", esses valores não significa que os dados estão faltantes e sim por que o python não conseguiu reconhecer diversas coisas do dataset"
   ]
  },
  {
   "cell_type": "markdown",
   "metadata": {},
   "source": []
  },
  {
   "cell_type": "code",
   "execution_count": null,
   "metadata": {},
   "outputs": [],
   "source": []
  }
 ],
 "metadata": {
  "kernelspec": {
   "display_name": "base",
   "language": "python",
   "name": "python3"
  },
  "language_info": {
   "codemirror_mode": {
    "name": "ipython",
    "version": 3
   },
   "file_extension": ".py",
   "mimetype": "text/x-python",
   "name": "python",
   "nbconvert_exporter": "python",
   "pygments_lexer": "ipython3",
   "version": "3.11.4"
  },
  "orig_nbformat": 4
 },
 "nbformat": 4,
 "nbformat_minor": 2
}
